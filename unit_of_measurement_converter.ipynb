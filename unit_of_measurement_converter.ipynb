{
 "cells": [
  {
   "cell_type": "code",
   "execution_count": 13,
   "id": "6309b3de-09eb-4a46-acad-2ff82a552ed1",
   "metadata": {},
   "outputs": [
    {
     "name": "stdin",
     "output_type": "stream",
     "text": [
      "Enter Starting Unit of Measure (inches, feet, yards):  \n",
      "Enter Unit of Measurement to Convert to (inches, feet, yards):  \n",
      "Enter Starting Measurement in Inches:  \n",
      "Enter Starting Measurement in Feet:  \n",
      "Enter Starting Measurement in Yards:  \n"
     ]
    }
   ],
   "source": [
    "convert_from = input(\"Enter Starting Unit of Measure (inches, feet, yards): \")\n",
    "convert_to = input(\"Enter Unit of Measurement to Convert to (inches, feet, yards): \")\n",
    "number_of_inches = input(\"Enter Starting Measurement in Inches: \")\n",
    "number_of_feet = input(\"Enter Starting Measurement in Feet: \")\n",
    "number_of_yards = input(\"Enter Starting Measurement in Yards: \")"
   ]
  },
  {
   "cell_type": "code",
   "execution_count": 36,
   "id": "79d05752-7ede-40bd-8bb3-931c745e9067",
   "metadata": {},
   "outputs": [
    {
     "name": "stdin",
     "output_type": "stream",
     "text": [
      "Enter Starting Unit of Measure (inches, feet, yards):  t\n"
     ]
    },
    {
     "name": "stdout",
     "output_type": "stream",
     "text": [
      "Please Enter either Inches, Feet, or Yards.\n"
     ]
    }
   ],
   "source": [
    "convert_from = input(\"Enter Starting Unit of Measure (inches, feet, yards): \").lower()\n",
    "\n",
    "if convert_from in [\"inches\", \"in\", \"inch\"]:\n",
    "    convert_to = input(\"Enter Unit of Measurement to Convert to (inches, feet, yards): \").lower()\n",
    "    if convert_to in [\"feet\", \"ft\", \"foot\"]:\n",
    "        number_of_inches = int(input(\"Enter Starting Measurement in Inches: \"));\n",
    "        print(\"Result: \" + str(number_of_inches) + \"in\" + \" = \" + str(round((number_of_inches / 12), 2)) + \"ft\");\n",
    "    elif convert_to in [\"yard\", \"yd\", \"yds\", \"yards\", \"yrd\"]:\n",
    "        number_of_inches = int(input(\"Enter Starting Measurement in Inches: \"));\n",
    "        print(\"Result: \" + str(number_of_inches) + \"in\" + \" = \" + str(round((number_of_inches / 12), 2)) + \"yd\");\n",
    "    else:\n",
    "        print(\"Please Enter either Inches, Feet, or Yards.\");\n",
    "        \n",
    "elif convert_from in [\"feet\", \"ft\", \"foot\"]:\n",
    "    convert_to = input(\"Enter Unit of Measurement to Convert to (inches, feet, yards): \").lower()\n",
    "    if convert_to in [\"inches\", \"in\", \"inch\"]:\n",
    "        number_of_feet = int(input(\"Enter Starting Measurement in Feet: \")) \n",
    "        print(\"Result: \" + str(number_of_inches) + \"ft\" + \" = \" + str(round((number_of_inches / 12), 2)) + \"in\");\n",
    "    elif convert_to in [\"yard\", \"yd\", \"yds\", \"yards\", \"yd\"]:\n",
    "        number_of_feet = int(input(\"Enter Starting Measurement in Feet: \")) \n",
    "        print(\"Result: \" + str(number_of_inches) + \"ft\" + \" = \" + str(round((number_of_inches / 12), 2)) + \"yd\");\n",
    "    else:\n",
    "        print(\"Please Enter either Inches, Feet, or Yards.\");\n",
    "\n",
    "elif convert_from in [\"yard\", \"yd\", \"yds\", \"yards\", \"yrd\"]:\n",
    "    convert_to = input(\"Enter Unit of Measurement to Convert to (inches, feet, yards): \").lower()\n",
    "    if convert_to in [\"feet\", \"ft\", \"foot\"]:\n",
    "        number_of_yards = int(input(\"Enter Starting Measurement in Yards: \")) \n",
    "        print(\"Result: \" + str(number_of_inches) + \"yd\" + \" = \" + str(round((number_of_inches / 12), 2)) + \"ft\");\n",
    "    elif convert_to in [\"inches\", \"in\", \"inch\"]:\n",
    "        number_of_yards = int(input(\"Enter Starting Measurement in Yards: \")) \n",
    "        print(\"Result: \" + str(number_of_inches) + \"yd\" + \" = \" + str(round((number_of_inches / 12), 2)) + \"in\");\n",
    "    else:\n",
    "        print(\"Please Enter either Inches, Feet, or Yards.\");\n",
    "else:\n",
    "    print(\"Please Enter either Inches, Feet, or Yards.\");"
   ]
  }
 ],
 "metadata": {
  "kernelspec": {
   "display_name": "Python 3 (ipykernel)",
   "language": "python",
   "name": "python3"
  },
  "language_info": {
   "codemirror_mode": {
    "name": "ipython",
    "version": 3
   },
   "file_extension": ".py",
   "mimetype": "text/x-python",
   "name": "python",
   "nbconvert_exporter": "python",
   "pygments_lexer": "ipython3",
   "version": "3.12.4"
  }
 },
 "nbformat": 4,
 "nbformat_minor": 5
}
